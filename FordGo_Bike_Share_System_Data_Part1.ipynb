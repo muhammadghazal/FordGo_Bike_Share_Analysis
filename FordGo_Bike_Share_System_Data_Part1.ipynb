{
 "cells": [
  {
   "cell_type": "markdown",
   "metadata": {},
   "source": [
    "# Ford GoBike System Data Exploration\n",
    "## by Muhammad Ghazal\n",
    "\n",
    "## Preliminary Wrangling\n",
    "\n",
    "This data set includes information about individual rides made in a bike-sharing system covering the greater San Francisco Bay area."
   ]
  },
  {
   "cell_type": "code",
   "execution_count": 1,
   "metadata": {},
   "outputs": [],
   "source": [
    "# import all packages and set plots to be embedded inline\n",
    "import numpy as np\n",
    "import pandas as pd\n",
    "import matplotlib.pyplot as plt\n",
    "import seaborn as sb\n",
    "\n",
    "%matplotlib inline"
   ]
  },
  {
   "cell_type": "code",
   "execution_count": 2,
   "metadata": {},
   "outputs": [],
   "source": [
    "# load in the dataset into a pandas dataframe, print statistics\n",
    "bike_share = pd.read_csv('201902-fordgobike-tripdata.csv')"
   ]
  },
  {
   "cell_type": "code",
   "execution_count": 3,
   "metadata": {},
   "outputs": [
    {
     "name": "stdout",
     "output_type": "stream",
     "text": [
      "(183412, 16)\n",
      "duration_sec                 int64\n",
      "start_time                  object\n",
      "end_time                    object\n",
      "start_station_id           float64\n",
      "start_station_name          object\n",
      "start_station_latitude     float64\n",
      "start_station_longitude    float64\n",
      "end_station_id             float64\n",
      "end_station_name            object\n",
      "end_station_latitude       float64\n",
      "end_station_longitude      float64\n",
      "bike_id                      int64\n",
      "user_type                   object\n",
      "member_birth_year          float64\n",
      "member_gender               object\n",
      "bike_share_for_all_trip     object\n",
      "dtype: object\n",
      "   duration_sec                start_time                  end_time  \\\n",
      "0         52185  2019-02-28 17:32:10.1450  2019-03-01 08:01:55.9750   \n",
      "1         42521  2019-02-28 18:53:21.7890  2019-03-01 06:42:03.0560   \n",
      "2         61854  2019-02-28 12:13:13.2180  2019-03-01 05:24:08.1460   \n",
      "3         36490  2019-02-28 17:54:26.0100  2019-03-01 04:02:36.8420   \n",
      "4          1585  2019-02-28 23:54:18.5490  2019-03-01 00:20:44.0740   \n",
      "5          1793  2019-02-28 23:49:58.6320  2019-03-01 00:19:51.7600   \n",
      "6          1147  2019-02-28 23:55:35.1040  2019-03-01 00:14:42.5880   \n",
      "7          1615  2019-02-28 23:41:06.7660  2019-03-01 00:08:02.7560   \n",
      "8          1570  2019-02-28 23:41:48.7900  2019-03-01 00:07:59.7150   \n",
      "9          1049  2019-02-28 23:49:47.6990  2019-03-01 00:07:17.0250   \n",
      "\n",
      "   start_station_id                                start_station_name  \\\n",
      "0              21.0  Montgomery St BART Station (Market St at 2nd St)   \n",
      "1              23.0                     The Embarcadero at Steuart St   \n",
      "2              86.0                           Market St at Dolores St   \n",
      "3             375.0                           Grove St at Masonic Ave   \n",
      "4               7.0                               Frank H Ogawa Plaza   \n",
      "5              93.0                      4th St at Mission Bay Blvd S   \n",
      "6             300.0                              Palm St at Willow St   \n",
      "7              10.0                        Washington St at Kearny St   \n",
      "8              10.0                        Washington St at Kearny St   \n",
      "9              19.0                              Post St at Kearny St   \n",
      "\n",
      "   start_station_latitude  start_station_longitude  end_station_id  \\\n",
      "0               37.789625              -122.400811            13.0   \n",
      "1               37.791464              -122.391034            81.0   \n",
      "2               37.769305              -122.426826             3.0   \n",
      "3               37.774836              -122.446546            70.0   \n",
      "4               37.804562              -122.271738           222.0   \n",
      "5               37.770407              -122.391198           323.0   \n",
      "6               37.317298              -121.884995           312.0   \n",
      "7               37.795393              -122.404770           127.0   \n",
      "8               37.795393              -122.404770           127.0   \n",
      "9               37.788975              -122.403452           121.0   \n",
      "\n",
      "                               end_station_name  end_station_latitude  \\\n",
      "0                Commercial St at Montgomery St             37.794231   \n",
      "1                            Berry St at 4th St             37.775880   \n",
      "2  Powell St BART Station (Market St at 4th St)             37.786375   \n",
      "3                        Central Ave at Fell St             37.773311   \n",
      "4                         10th Ave at E 15th St             37.792714   \n",
      "5                            Broadway at Kearny             37.798014   \n",
      "6                      San Jose Diridon Station             37.329732   \n",
      "7                        Valencia St at 21st St             37.756708   \n",
      "8                        Valencia St at 21st St             37.756708   \n",
      "9                            Mission Playground             37.759210   \n",
      "\n",
      "   end_station_longitude  bike_id   user_type  member_birth_year  \\\n",
      "0            -122.402923     4902    Customer             1984.0   \n",
      "1            -122.393170     2535    Customer                NaN   \n",
      "2            -122.404904     5905    Customer             1972.0   \n",
      "3            -122.444293     6638  Subscriber             1989.0   \n",
      "4            -122.248780     4898  Subscriber             1974.0   \n",
      "5            -122.405950     5200  Subscriber             1959.0   \n",
      "6            -121.901782     3803  Subscriber             1983.0   \n",
      "7            -122.421025     6329  Subscriber             1989.0   \n",
      "8            -122.421025     6548  Subscriber             1988.0   \n",
      "9            -122.421339     6488  Subscriber             1992.0   \n",
      "\n",
      "  member_gender bike_share_for_all_trip  \n",
      "0          Male                      No  \n",
      "1           NaN                      No  \n",
      "2          Male                      No  \n",
      "3         Other                      No  \n",
      "4          Male                     Yes  \n",
      "5          Male                      No  \n",
      "6        Female                      No  \n",
      "7          Male                      No  \n",
      "8         Other                      No  \n",
      "9          Male                      No  \n"
     ]
    }
   ],
   "source": [
    "# high-level overview of data shape and composition\n",
    "print(bike_share.shape)\n",
    "print(bike_share.dtypes)\n",
    "print(bike_share.head(10))"
   ]
  },
  {
   "cell_type": "code",
   "execution_count": 4,
   "metadata": {},
   "outputs": [
    {
     "name": "stdout",
     "output_type": "stream",
     "text": [
      "17318\n",
      "0\n"
     ]
    }
   ],
   "source": [
    "# Checking the number of nulls in the dataset and removing them if they exist\n",
    "print(bike_share.isnull().sum().sum())\n",
    "bike_share = bike_share.dropna()\n",
    "print(bike_share.isnull().sum().sum())\n",
    "bike_share = bike_share.reset_index(drop=True)"
   ]
  },
  {
   "cell_type": "code",
   "execution_count": 5,
   "metadata": {},
   "outputs": [
    {
     "name": "stdout",
     "output_type": "stream",
     "text": [
      "0\n"
     ]
    }
   ],
   "source": [
    "# Checking the duplicates and removing them if they exist\n",
    "print(bike_share.duplicated().sum())"
   ]
  },
  {
   "cell_type": "code",
   "execution_count": 6,
   "metadata": {},
   "outputs": [
    {
     "name": "stdout",
     "output_type": "stream",
     "text": [
      "        start_time    end_time\n",
      "0       2019-02-28  2019-03-01\n",
      "1       2019-02-28  2019-03-01\n",
      "2       2019-02-28  2019-03-01\n",
      "3       2019-02-28  2019-03-01\n",
      "4       2019-02-28  2019-03-01\n",
      "...            ...         ...\n",
      "174947  2019-02-01  2019-02-01\n",
      "174948  2019-02-01  2019-02-01\n",
      "174949  2019-02-01  2019-02-01\n",
      "174950  2019-02-01  2019-02-01\n",
      "174951  2019-02-01  2019-02-01\n",
      "\n",
      "[174952 rows x 2 columns]\n"
     ]
    }
   ],
   "source": [
    "# Extracting dates only without time from start_time and end_time columns\n",
    "def splits(string):\n",
    "    \"\"\"Extracting the substring that is before the whitespace.\"\"\"\n",
    "    date = string.split(\" \")[0]\n",
    "    return date\n",
    "\n",
    "bike_share.start_time = bike_share.start_time.apply(splits)\n",
    "bike_share.end_time = bike_share.end_time.apply(splits)\n",
    "print(bike_share[['start_time', 'end_time']])"
   ]
  },
  {
   "cell_type": "code",
   "execution_count": 7,
   "metadata": {},
   "outputs": [
    {
     "name": "stdout",
     "output_type": "stream",
     "text": [
      "duration_sec                        int64\n",
      "start_date                 datetime64[ns]\n",
      "end_date                   datetime64[ns]\n",
      "start_station_id                   object\n",
      "start_station_name                 object\n",
      "start_station_latitude            float64\n",
      "start_station_longitude           float64\n",
      "end_station_id                     object\n",
      "end_station_name                   object\n",
      "end_station_latitude              float64\n",
      "end_station_longitude             float64\n",
      "bike_id                            object\n",
      "user_type                        category\n",
      "member_birth_year                  object\n",
      "member_gender                    category\n",
      "bike_share_for_all_trip          category\n",
      "dtype: object\n"
     ]
    }
   ],
   "source": [
    "# Changing data types of specific columns to appropriate types\n",
    "changes = {\"start_station_id\": \"int64\", \n",
    "           \"end_station_id\": \"int64\", \n",
    "           \"member_birth_year\": \"int64\"}\n",
    "\n",
    "changes2 = {\"start_time\": \"datetime64[ns]\", \n",
    "           \"end_time\": \"datetime64[ns]\", \n",
    "           \"start_station_id\": \"object\", \n",
    "           \"end_station_id\": \"object\", \n",
    "           \"bike_id\": \"object\",\n",
    "           \"member_birth_year\": \"object\",\n",
    "           \"member_gender\": \"category\",\n",
    "           \"bike_share_for_all_trip\": \"category\",\n",
    "           \"user_type\": \"category\"}\n",
    "bike_share = bike_share.astype(changes)\n",
    "bike_share = bike_share.astype(changes2)\n",
    "bike_share = bike_share.rename(columns={\"start_time\": \"start_date\", \"end_time\": \"end_date\"})\n",
    "print(bike_share.dtypes)"
   ]
  },
  {
   "cell_type": "code",
   "execution_count": 8,
   "metadata": {},
   "outputs": [
    {
     "name": "stdout",
     "output_type": "stream",
     "text": [
      "        duration_sec  start_station_latitude  start_station_longitude  \\\n",
      "count  174952.000000           174952.000000            174952.000000   \n",
      "mean      704.002744               37.771220              -122.351760   \n",
      "std      1642.204905                0.100391                 0.117732   \n",
      "min        61.000000               37.317298              -122.453704   \n",
      "25%       323.000000               37.770407              -122.411901   \n",
      "50%       510.000000               37.780760              -122.398279   \n",
      "75%       789.000000               37.797320              -122.283093   \n",
      "max     84548.000000               37.880222              -121.874119   \n",
      "\n",
      "       end_station_latitude  end_station_longitude  \n",
      "count         174952.000000          174952.000000  \n",
      "mean              37.771414            -122.351335  \n",
      "std                0.100295               0.117294  \n",
      "min               37.317298            -122.453704  \n",
      "25%               37.770407            -122.411647  \n",
      "50%               37.781010            -122.397437  \n",
      "75%               37.797673            -122.286533  \n",
      "max               37.880222            -121.874119  \n"
     ]
    }
   ],
   "source": [
    "# descriptive statistics for numeric variables\n",
    "print(bike_share.describe())"
   ]
  },
  {
   "cell_type": "markdown",
   "metadata": {},
   "source": [
    "### What is the structure of your dataset?\n",
    "\n",
    "There are 174952 trips in the dataset. Each trip is anonymized and includes:\n",
    "* duration_sec: Trip Duration(seconds)\n",
    "* start_date\n",
    "* end_date\n",
    "* start_station_id\n",
    "* start_station_name\n",
    "* start_station_latitude\n",
    "* end_station_id\n",
    "* end_station_name\n",
    "* end_station_latitude\n",
    "* end_station_longitude\n",
    "* bike_id\n",
    "* user_type(Subscriber or Customer - \"Subscriber\" = Member or \"Customer\" = Casual)\n",
    "* member_birth_year\n",
    "* member_gender: Female or Male or Other\n",
    "* bike_share_for_all_trip: it is discount pricing for members who are in different external programs such as CalFresh which is a welfare program for low income individuals. Its values are: Yes or No.\n",
    "\n",
    "### What is/are the main feature(s) of interest in your dataset?\n",
    "\n",
    "I'm most interested in figuring out what features are best for predicting the duration of the trips in the dataset.\n",
    "\n",
    "### What features in the dataset do you think will help support your investigation into your feature(s) of interest?\n",
    "\n",
    "I expect that user type will have the strongest effect on each trip duration. If the user is subscriber, then their trips may be longer. I also think that bike share for all trip, member_gender, and bike_share_for_all_trip will have smaller effect."
   ]
  },
  {
   "cell_type": "markdown",
   "metadata": {},
   "source": [
    "## Univariate Exploration\n",
    "\n",
    "I'll start by looking at the distribution of the main variable of interest: duration_sec."
   ]
  },
  {
   "cell_type": "code",
   "execution_count": 9,
   "metadata": {},
   "outputs": [
    {
     "data": {
      "image/png": "[encoded data removed]",
      "text/plain": [
       "<Figure size 432x288 with 1 Axes>"
      ]
     },
     "metadata": {
      "needs_background": "light"
     },
     "output_type": "display_data"
    }
   ],
   "source": [
    "# start with a standard-scaled plot\n",
    "binsize = 100\n",
    "bike_share_4000 = bike_share.query(\"duration_sec < 4000\")\n",
    "bins = np.arange(0, bike_share_4000['duration_sec'].max()+binsize, binsize)\n",
    "plt.hist(data = bike_share_4000, x = 'duration_sec', bins=bins)\n",
    "plt.xlabel(\"duration_sec\");"
   ]
  },
  {
   "cell_type": "code",
   "execution_count": 10,
   "metadata": {},
   "outputs": [
    {
     "data": {
      "image/png": "[encoded data removed]",
      "text/plain": [
       "<Figure size 432x288 with 1 Axes>"
      ]
     },
     "metadata": {
      "needs_background": "light"
     },
     "output_type": "display_data"
    }
   ],
   "source": [
    "# there's a long tail in the distribution, so let's put it on a log scale instead\n",
    "bins = 10 ** np.arange(1, 4.05, 0.05)\n",
    "plt.hist(data = bike_share, x = 'duration_sec', bins = bins)\n",
    "plt.xscale('log')\n",
    "plt.xticks([100, 300, 1000, 3000, 7000], [100, 300, '1k', '3k', '7k'])\n",
    "plt.xlabel(\"Trip Duration(seconds)\");"
   ]
  },
  {
   "cell_type": "markdown",
   "metadata": {},
   "source": [
    "duration_sec column has a right skewed distribution, so I filtered the duration_sec column such that it displays the values that are less than 4000 seconds because above that value, there are outliers that make the first plot very small. But in the second plot, I didn't use that filter.\n",
    "duration_sec has a long-tailed distribution, with a lot of trips on the low duration end, and few on the high duration end. When plotted on a log-scale, the duration distribution looks roughly unimodal, with one peak between 300 and 1000 and it looks like a normal distribution.\n",
    "\n",
    "Next up, the categorical variables (user_type, member_gender and bike_share_for_all_trip)."
   ]
  },
  {
   "cell_type": "code",
   "execution_count": 11,
   "metadata": {},
   "outputs": [
    {
     "data": {
      "image/png": "[encoded data removed]",
      "text/plain": [
       "<Figure size 432x288 with 1 Axes>"
      ]
     },
     "metadata": {
      "needs_background": "light"
     },
     "output_type": "display_data"
    }
   ],
   "source": [
    "# plotting user_type\n",
    "values = bike_share.user_type.value_counts().values\n",
    "x = [1, 2]\n",
    "plt.bar(x, values, width=0.3)\n",
    "plt.xticks(x, ['Subscriber', 'Customer'])\n",
    "yticks = [0, 2e4, 4e4, 6e4, 8e4, 10e4, 12e4, 14e4, 16e4]\n",
    "yticklabels = [0, '20k', '40k', '60k', '80k', '100k', '120k', '140k', '160k']\n",
    "plt.yticks(yticks, yticklabels)\n",
    "plt.xlabel(\"User Type\");"
   ]
  },
  {
   "cell_type": "code",
   "execution_count": 12,
   "metadata": {},
   "outputs": [
    {
     "data": {
      "image/png": "[encoded data removed]",
      "text/plain": [
       "<Figure size 432x288 with 1 Axes>"
      ]
     },
     "metadata": {
      "needs_background": "light"
     },
     "output_type": "display_data"
    }
   ],
   "source": [
    "# plotting member_gender\n",
    "values = bike_share.member_gender.value_counts().values\n",
    "x = [0, 1, 2]\n",
    "plt.bar(x, values, width=0.5)\n",
    "xticklabels=[\"Male\", \"Female\", \"Other\"]\n",
    "plt.xticks(x, xticklabels)\n",
    "yticks = [0, 20000, 40000, 60000, 80000, 100000, 120000]\n",
    "yticklabels = [0, '20k', '40k', '60k', '80k', '100k', '120k']\n",
    "plt.yticks(yticks, yticklabels)\n",
    "plt.xlabel(\"Gender\");"
   ]
  },
  {
   "cell_type": "code",
   "execution_count": 13,
   "metadata": {},
   "outputs": [
    {
     "data": {
      "image/png": "[encoded data removed]",
      "text/plain": [
       "<Figure size 432x288 with 1 Axes>"
      ]
     },
     "metadata": {
      "needs_background": "light"
     },
     "output_type": "display_data"
    }
   ],
   "source": [
    "# plotting bike_share_for_all_trip\n",
    "values = bike_share.bike_share_for_all_trip.value_counts().values\n",
    "x = [0, 1]\n",
    "plt.bar(x, values, width=0.3)\n",
    "yticks = [0, 2e4, 4e4, 6e4, 8e4, 10e4, 12e4, 14e4, 16e4]\n",
    "yticklabels = [0, '20k', '40k', '60k', '80k', '100k', '120k', '140k', '160k']\n",
    "xticklabels = ['No', 'Yes']\n",
    "plt.yticks(yticks, yticklabels)\n",
    "plt.xticks(x, xticklabels)\n",
    "plt.xlabel(\"bike share for all trip\");"
   ]
  },
  {
   "cell_type": "markdown",
   "metadata": {},
   "source": [
    "- In user_type column, most users are subscribers in bike share service. They are about 160k subscribers, while few users are customers which uses bike share in few times. They are about 20k customers. \n",
    "- In member_gender column, most of them are males. They are more than 120k males. Some of them are females. They are about 40k females. Few of them are others and they are few thousands. \n",
    "- In bike_share_for_all_trip column, Most of the users are not subscribers in different external programs, so they do not have discounting amount on the trips. They are about 160k users. Few of them have discounting amount on the trips. They are about 20k users."
   ]
  },
  {
   "cell_type": "markdown",
   "metadata": {},
   "source": [
    "### Discuss the distribution(s) of your variable(s) of interest. Were there any unusual points? Did you need to perform any transformations?\n",
    "\n",
    "The duration_sec variable took on a large range of values, so I looked at the data using a log transform. Under the transformation, the data looked unimodal and in a normal distribution, with one peak between 300 dollars and 1000 dollars.\n",
    "\n",
    "### Of the features you investigated, were there any unusual distributions? Did you perform any operations on the data to tidy, adjust, or change the form of the data? If so, why did you do this?\n",
    "\n",
    "No, there weren't any unusual distributions in the categorical variables:(member_gender, user_type and bike_share_for_all_trip). I changed the data type of them from object to category because the values of them are categorical."
   ]
  },
  {
   "cell_type": "markdown",
   "metadata": {},
   "source": [
    "## Bivariate Exploration\n",
    "\n",
    "To start off with, I want to look at the relationships between log(duration_sec) and the categorical variables:(member_gender, user_type and bike_share_for_all_trip)"
   ]
  },
  {
   "cell_type": "code",
   "execution_count": 17,
   "metadata": {},
   "outputs": [
    {
     "data": {
      "image/png": "[encoded data removed]",
      "text/plain": [
       "<Figure size 432x288 with 1 Axes>"
      ]
     },
     "metadata": {
      "needs_background": "light"
     },
     "output_type": "display_data"
    }
   ],
   "source": [
    "# plotting user_type vs duration_sec\n",
    "base_color = sb.color_palette()[0]\n",
    "base_order = ['Subscriber', 'Customer']\n",
    "sb.boxplot(x = 'user_type', y = 'duration_sec', data=bike_share, order=base_order, color=base_color)\n",
    "plt.yscale('log')\n",
    "yticks = [100, 300, 1000, 3000, 10000, 30000, 100000]\n",
    "yticklabels = [100, 300, '1k', '3k', '10k', '30k', '100k']\n",
    "plt.yticks(yticks, yticklabels)\n",
    "plt.ylabel(\"log(duration_sec)\");"
   ]
  },
  {
   "cell_type": "code",
   "execution_count": 15,
   "metadata": {},
   "outputs": [
    {
     "data": {
      "image/png": "[encoded data removed]",
      "text/plain": [
       "<Figure size 432x288 with 1 Axes>"
      ]
     },
     "metadata": {
      "needs_background": "light"
     },
     "output_type": "display_data"
    }
   ],
   "source": [
    "# plotting member_gender vs duration_sec\n",
    "base_order = ['Male', 'Female', 'Other']\n",
    "sb.boxplot(x = 'member_gender', y='duration_sec', data=bike_share, order=base_order, color=base_color)\n",
    "plt.yscale('log')\n",
    "plt.yticks([100, 300, 1000, 3000, 10000, 30000, 100000], [100, 300, '1k', '3k', '10k', '30k', '100k'])\n",
    "plt.ylabel(\"log(duration_sec)\");"
   ]
  },
  {
   "cell_type": "code",
   "execution_count": 16,
   "metadata": {},
   "outputs": [
    {
     "data": {
      "image/png": "[encoded data removed]",
      "text/plain": [
       "<Figure size 432x288 with 1 Axes>"
      ]
     },
     "metadata": {
      "needs_background": "light"
     },
     "output_type": "display_data"
    }
   ],
   "source": [
    "# plotting bike_share_for_all_trip vs duration_sec\n",
    "base_order = ['No', 'Yes']\n",
    "sb.boxplot(x='bike_share_for_all_trip', y='duration_sec', data=bike_share, order=base_order, color=base_color)\n",
    "plt.yscale('log')\n",
    "yticks=[100, 300, 1000, 3000, 10000, 30000, 100000]\n",
    "yticklabels = [100, 300, '1k', '3k', '10k', '30k', '100k']\n",
    "plt.yticks(yticks, yticklabels)\n",
    "plt.ylabel('log(duration_sec)');"
   ]
  },
  {
   "cell_type": "markdown",
   "metadata": {},
   "source": [
    "In the plots of the categorical variables vs duration_sec, I used log transformation for duration_sec because it has a large range of values. \n",
    "- In the plot between user_type and log(duration_sec), I realized that the median of the durations for customers is higher than for subscribers, which means that in average the customers which are casuals in using bike share service their trips are longer than the subscribers which enrolled in the bike share service for a fee and the outliers of subscribers' durations more than the outliers of customers', the median with customers is about 1k seconds, but it is about 650 seconds with subscribers.\n",
    "- In the plot between member_gender and log(duration_sec), I realized that the medians of durations with Females and Other are higher than the median of durations with Males, which means that females and other are making long trips comparing with males.\n",
    "- In the plot between bike_share_for_all_trip and log(duration_sec), I realized that the median of durations with users that haven't discounting amount in trips is slightly higher than the median of durations with users that have discounting amount in trips."
   ]
  },
  {
   "cell_type": "markdown",
   "metadata": {},
   "source": [
    "### Talk about some of the relationships you observed in this part of the investigation. How did the feature(s) of interest vary with other features in the dataset?\n",
    "\n",
    "As I expected, the largest effect was with user_type column, when the user is customer(casual), in average, he will take longer durations in his trip than with the user that is subscriber. The other two columns(member_gender and bike_share_for_all_trip) have smaller effect with duration_sec.\n",
    "\n",
    "### Did you observe any interesting relationships between the other features (not the main feature(s) of interest)?\n",
    "\n",
    "No, I didn't."
   ]
  },
  {
   "cell_type": "markdown",
   "metadata": {},
   "source": [
    "## Multivariate Exploration\n",
    "\n",
    "The main thing I want to explore in this part of the analysis is how the three categorical measures of quality play into the relationship between each other and duration_sec column."
   ]
  },
  {
   "cell_type": "code",
   "execution_count": 26,
   "metadata": {},
   "outputs": [
    {
     "data": {
      "image/png": "[encoded data removed]",
      "text/plain": [
       "<Figure size 648x216 with 2 Axes>"
      ]
     },
     "metadata": {
      "needs_background": "light"
     },
     "output_type": "display_data"
    }
   ],
   "source": [
    "# create faceted box plots between member_gender and log(duration_sec) on levels of the user_type variable\n",
    "g = sb.FacetGrid(data=bike_share, col='user_type', col_order=['Subscriber', 'Customer'], aspect=1.5)\n",
    "g.map(sb.boxplot, 'member_gender', 'duration_sec', order=['Male', 'Female', 'Other'])\n",
    "g.set(yscale='log')\n",
    "yticks=[100, 300, 1000, 3000, 10000, 30000, 100000]\n",
    "yticklabels = [100, 300, '1k', '3k', '10k', '30k', '100k']\n",
    "g.set(yticks=yticks, yticklabels=yticklabels);"
   ]
  },
  {
   "cell_type": "markdown",
   "metadata": {},
   "source": [
    "In this plot, comparing user_type = Subscriber with user_type = Customer: the subscribers in general with their different genders in average have shorter trips durations than the customers especially with females. Female subscribers has a median between 300 and 1k seconds but female customers have a median about 1k seconds. Also the outliers with subscribers are more than with customers."
   ]
  },
  {
   "cell_type": "code",
   "execution_count": 31,
   "metadata": {},
   "outputs": [
    {
     "name": "stderr",
     "output_type": "stream",
     "text": [
      "C:\\Users\\Gazal\\anaconda3\\lib\\site-packages\\seaborn\\axisgrid.py:645: UserWarning: Using the boxplot function without specifying `order` is likely to produce an incorrect plot.\n",
      "  warnings.warn(warning)\n"
     ]
    },
    {
     "data": {
      "image/png": "[encoded data removed]",
      "text/plain": [
       "<Figure size 432x216 with 2 Axes>"
      ]
     },
     "metadata": {
      "needs_background": "light"
     },
     "output_type": "display_data"
    }
   ],
   "source": [
    "# create faceted box plots between bike_share_for_all_trip and log(duration_sec) on levels of the user_type variable\n",
    "g = sb.FacetGrid(data=bike_share, col='user_type', col_order=['Subscriber', 'Customer'])\n",
    "g.map(sb.boxplot, 'bike_share_for_all_trip', 'duration_sec')\n",
    "g.set(yscale='log')\n",
    "yticks = [100, 300, 1000, 3000, 10000, 30000, 100000]\n",
    "yticklabels = [100, 300, '1k', '3k', '10k', '30k', '100k']\n",
    "g.set(yticks=yticks, yticklabels=yticklabels);"
   ]
  },
  {
   "cell_type": "markdown",
   "metadata": {},
   "source": [
    "In this plot, subscribers have lower durations in average than customers when they don't subscribe in bike_share_for_all_trip, but I am surprised that no customer have discounting amount on their trips."
   ]
  },
  {
   "cell_type": "code",
   "execution_count": 36,
   "metadata": {},
   "outputs": [
    {
     "data": {
      "image/png": "[encoded data removed]",
      "text/plain": [
       "<Figure size 648x216 with 3 Axes>"
      ]
     },
     "metadata": {
      "needs_background": "light"
     },
     "output_type": "display_data"
    }
   ],
   "source": [
    "# create faceted box plots between bike_share_for_all_trip and log(duration_sec) on levels of the member_gender variable\n",
    "g = sb.FacetGrid(data=bike_share, col='member_gender', col_order=['Male', 'Female', 'Other'])\n",
    "g.map(sb.boxplot, 'bike_share_for_all_trip', 'duration_sec', order=['No', 'Yes'])\n",
    "g.set(yscale='log')\n",
    "yticks = [100, 300, 1000, 3000, 10000, 30000, 100000]\n",
    "yticklabels = [100, 300, '1k', '3k', '10k', '30k', '100k']\n",
    "g.set(yticks=yticks, yticklabels=yticklabels);"
   ]
  },
  {
   "cell_type": "markdown",
   "metadata": {},
   "source": [
    "In this plot, the median of males who don't subscribe for bike_share_for_all_trip are less than the median of females and others. The outliers of other users who are subscribers in bike_share_for_all_trip are less than the outliers with males and females."
   ]
  },
  {
   "cell_type": "markdown",
   "metadata": {},
   "source": [
    "### Talk about some of the relationships you observed in this part of the investigation. Were there features that strengthened each other in terms of looking at your feature(s) of interest?\n",
    "\n",
    "Customers have longer trip duration than subscribers regardless of their genders or if they subscribed in bike_share_for_all_trip or not. No customer is subscribed in bike_share_for_all_trip and this is maybe because they are casuals not permenant subscriber so the cost of their trips can be paid. Others gender are less likely to subscribe in that program(bike_share_for_all_trip) than Males and Females.\n",
    "\n",
    "### Were there any interesting or surprising interactions between features?\n",
    "\n",
    "Yes, I realized in the plot between bike_share_for_all_trip and duration_sec that in average the users who don't subscribe in bike_share_for_all_trip have higher trip durations than who are subscribers in bike_share_for_all_trip, but in the multivariate plot between bike_share_for_all_trip and duration_sec across user_type, I realized that the customers who aren't subscribers in bike_share_for_all_trip in average have higher trip durations than subscribers but no customers are subscribers in bike_share_for_all_trip which affects on the bivariate plot and makes conflict in the result."
   ]
  }
 ],
 "metadata": {
  "kernelspec": {
   "display_name": "Python 3",
   "language": "python",
   "name": "python3"
  },
  "language_info": {
   "codemirror_mode": {
    "name": "ipython",
    "version": 3
   },
   "file_extension": ".py",
   "mimetype": "text/x-python",
   "name": "python",
   "nbconvert_exporter": "python",
   "pygments_lexer": "ipython3",
   "version": "3.8.5"
  }
 },
 "nbformat": 4,
 "nbformat_minor": 2
}
